{
 "cells": [
  {
   "cell_type": "code",
   "execution_count": 2,
   "id": "26178614-8460-4ff9-b0ba-fb77b1d824bd",
   "metadata": {},
   "outputs": [
    {
     "name": "stdout",
     "output_type": "stream",
     "text": [
      "The number of vowels in the string is 3\n"
     ]
    }
   ],
   "source": [
    "def count_vowels(s):\n",
    "    if s == '':\n",
    "        return 0\n",
    "    else:\n",
    "        if s[0].lower() in 'aeiou':\n",
    "            return 1 + count_vowels(s[1:])\n",
    "        else:\n",
    "            return 0 + count_vowels(s[1:])\n",
    "\n",
    "text = \"Hello, World!\"\n",
    "result = count_vowels(text)\n",
    "print(f\"The number of vowels in the string is {result}\")"
   ]
  },
  {
   "cell_type": "code",
   "execution_count": 4,
   "id": "25dc8b86-2c37-4371-a34d-1749479bffe5",
   "metadata": {},
   "outputs": [
    {
     "name": "stdout",
     "output_type": "stream",
     "text": [
      "The number of zeroes in 10203040 is 4\n"
     ]
    }
   ],
   "source": [
    "def count_zeroes(n):\n",
    "    if n == 0:\n",
    "        return 1\n",
    "    elif n < 10:\n",
    "        return 0\n",
    "    else:\n",
    "        if n % 10 == 0:\n",
    "            return 1 + count_zeroes(n // 10)\n",
    "        else:\n",
    "            return 0 + count_zeroes(n // 10)\n",
    "\n",
    "number = 10203040\n",
    "result = count_zeroes(number)\n",
    "print(f\"The number of zeroes in {number} is {result}\")"
   ]
  },
  {
   "cell_type": "code",
   "execution_count": 6,
   "id": "5f33ced2-6568-4a40-879c-ded5029f6cdf",
   "metadata": {},
   "outputs": [
    {
     "name": "stdout",
     "output_type": "stream",
     "text": [
      "The binary representation of 13 is 1101\n"
     ]
    }
   ],
   "source": [
    "def decimal_to_binary(n):\n",
    "    if n == 0:\n",
    "        return \"0\"\n",
    "    elif n == 1:\n",
    "        return \"1\"\n",
    "    else:\n",
    "        return decimal_to_binary(n // 2) + str(n % 2)\n",
    "\n",
    "number = 13\n",
    "result = decimal_to_binary(number)\n",
    "print(f\"The binary representation of {number} is {result}\")"
   ]
  },
  {
   "cell_type": "code",
   "execution_count": 8,
   "id": "541ee202-fbc3-4e3d-b65a-c617a576be2a",
   "metadata": {},
   "outputs": [
    {
     "name": "stdout",
     "output_type": "stream",
     "text": [
      "The number of digits in 12345 is 5\n"
     ]
    }
   ],
   "source": [
    "def count_digits(n):\n",
    "    if n == 0:\n",
    "        return 0\n",
    "    else:\n",
    "        return 1 + count_digits(n // 10)\n",
    "\n",
    "number = 12345\n",
    "result = count_digits(number)\n",
    "print(f\"The number of digits in {number} is {result}\")"
   ]
  },
  {
   "cell_type": "code",
   "execution_count": 10,
   "id": "146acc00-bedb-47f1-98e9-b6454b986f51",
   "metadata": {},
   "outputs": [
    {
     "name": "stdout",
     "output_type": "stream",
     "text": [
      "The number of digits in the string is 6\n"
     ]
    }
   ],
   "source": [
    "def count_digits_in_string(s):\n",
    "    if s == '':\n",
    "        return 0\n",
    "    else:\n",
    "        if s[0].isdigit():\n",
    "            return 1 + count_digits_in_string(s[1:])\n",
    "        else:\n",
    "            return 0 + count_digits_in_string(s[1:])\n",
    "\n",
    "text = \"Hello123World456\"\n",
    "result = count_digits_in_string(text)\n",
    "print(f\"The number of digits in the string is {result}\")"
   ]
  },
  {
   "cell_type": "code",
   "execution_count": 12,
   "id": "b2bd3751-cf3a-47f4-ba1b-d5b2d00ae586",
   "metadata": {},
   "outputs": [
    {
     "name": "stdout",
     "output_type": "stream",
     "text": [
      "The number of odd digits in 1234567 is 4\n"
     ]
    }
   ],
   "source": [
    "def count_odd_digits(n):\n",
    "    if n == 0:\n",
    "        return 0\n",
    "    else:\n",
    "        if n % 2 != 0:\n",
    "            return 1 + count_odd_digits(n // 10)\n",
    "        else:\n",
    "            return 0 + count_odd_digits(n // 10)\n",
    "\n",
    "number = 1234567\n",
    "result = count_odd_digits(number)\n",
    "print(f\"The number of odd digits in {number} is {result}\")"
   ]
  },
  {
   "cell_type": "code",
   "execution_count": 14,
   "id": "e12953f2-c822-417c-acc8-eb594fdbd321",
   "metadata": {},
   "outputs": [
    {
     "name": "stdout",
     "output_type": "stream",
     "text": [
      "!dlroW ,olleH"
     ]
    }
   ],
   "source": [
    "def print_reverse(s):\n",
    "    if s == '':\n",
    "        return\n",
    "    else:\n",
    "        print_reverse(s[1:])\n",
    "        print(s[0], end='')\n",
    "\n",
    "text = \"Hello, World!\"\n",
    "print_reverse(text)"
   ]
  },
  {
   "cell_type": "code",
   "execution_count": 16,
   "id": "4a92cd05-c7dd-48ec-b5e4-3df8e04da949",
   "metadata": {},
   "outputs": [
    {
     "name": "stdout",
     "output_type": "stream",
     "text": [
      "The length of the string is 13\n"
     ]
    }
   ],
   "source": [
    "def string_length(s):\n",
    "    if s == '':\n",
    "        return 0\n",
    "    else:\n",
    "        return 1 + string_length(s[1:])\n",
    "\n",
    "text = \"Hello, World!\"\n",
    "result = string_length(text)\n",
    "print(f\"The length of the string is {result}\")"
   ]
  },
  {
   "cell_type": "code",
   "execution_count": 18,
   "id": "7cd0fef5-fcd7-4369-ab4c-e68d0955dd3b",
   "metadata": {},
   "outputs": [
    {
     "name": "stdout",
     "output_type": "stream",
     "text": [
      "The sum of the digits of 12345 is 15\n"
     ]
    }
   ],
   "source": [
    "def sum_of_digits(n):\n",
    "    if n < 10:\n",
    "        return n\n",
    "    else:\n",
    "        return (n % 10) + sum_of_digits(n // 10)\n",
    "\n",
    "number = 12345\n",
    "result = sum_of_digits(number)\n",
    "print(f\"The sum of the digits of {number} is {result}\")"
   ]
  },
  {
   "cell_type": "code",
   "execution_count": 20,
   "id": "2817d5a3-6817-4284-9ada-451510478296",
   "metadata": {},
   "outputs": [
    {
     "name": "stdout",
     "output_type": "stream",
     "text": [
      "The GCD is 6\n"
     ]
    }
   ],
   "source": [
    "def gcd(a, b):\n",
    "    if b == 0:\n",
    "        return a\n",
    "    else:\n",
    "        return gcd(b, a % b)\n",
    "\n",
    "result = gcd(48, 18)\n",
    "print(f\"The GCD is {result}\")"
   ]
  },
  {
   "cell_type": "code",
   "execution_count": null,
   "id": "f1c8e59b-de09-4b1c-a2d5-e80579b6b4f4",
   "metadata": {},
   "outputs": [],
   "source": []
  }
 ],
 "metadata": {
  "kernelspec": {
   "display_name": "Python 3 (ipykernel)",
   "language": "python",
   "name": "python3"
  },
  "language_info": {
   "codemirror_mode": {
    "name": "ipython",
    "version": 3
   },
   "file_extension": ".py",
   "mimetype": "text/x-python",
   "name": "python",
   "nbconvert_exporter": "python",
   "pygments_lexer": "ipython3",
   "version": "3.12.4"
  }
 },
 "nbformat": 4,
 "nbformat_minor": 5
}
